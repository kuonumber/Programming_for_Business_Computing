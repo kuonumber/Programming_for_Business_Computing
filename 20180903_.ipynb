{
 "cells": [
  {
   "cell_type": "markdown",
   "metadata": {},
   "source": [
    "# ch2"
   ]
  },
  {
   "cell_type": "code",
   "execution_count": 96,
   "metadata": {},
   "outputs": [],
   "source": [
    "a = 3.141596"
   ]
  },
  {
   "cell_type": "code",
   "execution_count": 107,
   "metadata": {},
   "outputs": [
    {
     "name": "stdout",
     "output_type": "stream",
     "text": [
      "003.142\n",
      "003.14\n"
     ]
    }
   ],
   "source": [
    "print('%07.3f' % (a,))\n",
    "print('%06.2f' % (3.141592653589793,))"
   ]
  },
  {
   "cell_type": "code",
   "execution_count": 19,
   "metadata": {},
   "outputs": [],
   "source": [
    "import numpy as np"
   ]
  },
  {
   "cell_type": "code",
   "execution_count": 6,
   "metadata": {},
   "outputs": [],
   "source": [
    "a = 'abc' "
   ]
  },
  {
   "cell_type": "code",
   "execution_count": 7,
   "metadata": {},
   "outputs": [
    {
     "data": {
      "text/plain": [
       "'a'"
      ]
     },
     "execution_count": 7,
     "metadata": {},
     "output_type": "execute_result"
    }
   ],
   "source": [
    "a[0]"
   ]
  },
  {
   "cell_type": "code",
   "execution_count": 8,
   "metadata": {},
   "outputs": [
    {
     "ename": "TypeError",
     "evalue": "'str' object does not support item assignment",
     "output_type": "error",
     "traceback": [
      "\u001b[0;31m---------------------------------------------------------------------------\u001b[0m",
      "\u001b[0;31mTypeError\u001b[0m                                 Traceback (most recent call last)",
      "\u001b[0;32m<ipython-input-8-9e79e10199ad>\u001b[0m in \u001b[0;36m<module>\u001b[0;34m()\u001b[0m\n\u001b[0;32m----> 1\u001b[0;31m \u001b[0ma\u001b[0m\u001b[0;34m[\u001b[0m\u001b[0;36m0\u001b[0m\u001b[0;34m]\u001b[0m \u001b[0;34m=\u001b[0m \u001b[0;34m'z'\u001b[0m\u001b[0;34m\u001b[0m\u001b[0m\n\u001b[0m",
      "\u001b[0;31mTypeError\u001b[0m: 'str' object does not support item assignment"
     ]
    }
   ],
   "source": [
    "a[0] = 'z'"
   ]
  },
  {
   "cell_type": "code",
   "execution_count": 9,
   "metadata": {},
   "outputs": [
    {
     "data": {
      "text/plain": [
       "'abcabc'"
      ]
     },
     "execution_count": 9,
     "metadata": {},
     "output_type": "execute_result"
    }
   ],
   "source": [
    "a+a"
   ]
  },
  {
   "cell_type": "code",
   "execution_count": 10,
   "metadata": {},
   "outputs": [
    {
     "data": {
      "text/plain": [
       "'abcabcabc'"
      ]
     },
     "execution_count": 10,
     "metadata": {},
     "output_type": "execute_result"
    }
   ],
   "source": [
    "a*3"
   ]
  },
  {
   "cell_type": "code",
   "execution_count": 11,
   "metadata": {},
   "outputs": [
    {
     "data": {
      "text/plain": [
       "'ab'"
      ]
     },
     "execution_count": 11,
     "metadata": {},
     "output_type": "execute_result"
    }
   ],
   "source": [
    "a[-3:-1]"
   ]
  },
  {
   "cell_type": "code",
   "execution_count": 12,
   "metadata": {},
   "outputs": [
    {
     "data": {
      "text/plain": [
       "'abcabcabc'"
      ]
     },
     "execution_count": 12,
     "metadata": {},
     "output_type": "execute_result"
    }
   ],
   "source": [
    "a[:]*3"
   ]
  },
  {
   "cell_type": "code",
   "execution_count": 13,
   "metadata": {},
   "outputs": [
    {
     "data": {
      "text/plain": [
       "True"
      ]
     },
     "execution_count": 13,
     "metadata": {},
     "output_type": "execute_result"
    }
   ],
   "source": [
    "'a'<'c'"
   ]
  },
  {
   "cell_type": "code",
   "execution_count": 17,
   "metadata": {},
   "outputs": [
    {
     "data": {
      "text/plain": [
       "'商管程式設計'"
      ]
     },
     "execution_count": 17,
     "metadata": {},
     "output_type": "execute_result"
    }
   ],
   "source": [
    "''.join([chr(s) for s in [21830, 31649, 31243, 24335, 35373, 35336] ])"
   ]
  },
  {
   "cell_type": "code",
   "execution_count": 14,
   "metadata": {},
   "outputs": [
    {
     "data": {
      "text/plain": [
       "34"
      ]
     },
     "execution_count": 14,
     "metadata": {},
     "output_type": "execute_result"
    }
   ],
   "source": [
    "ord('\"')"
   ]
  },
  {
   "cell_type": "code",
   "execution_count": 33,
   "metadata": {},
   "outputs": [],
   "source": [
    "s = '''\n",
    "A=10 　　　J=18 　　　S=26  \n",
    "B=11 　　　K=19 　　　T=27  \n",
    "C=12 　　　L=20 　　　U=28  \n",
    "D=13 　　　M=21 　　　V=29  \n",
    "E=14 　　　N=22 　　  W=32  \n",
    "F=15 　　  O=35 　　　X=30  \n",
    "G=16 　　　P=23 　　　Y=31  \n",
    "H=17 　　　Q=24 　　  Z=33  \n",
    "I=34 　　　R=25 　\n",
    "'''"
   ]
  },
  {
   "cell_type": "code",
   "execution_count": 46,
   "metadata": {},
   "outputs": [],
   "source": [
    "d = [ss.replace('=',':') for ss in (s.split())]"
   ]
  },
  {
   "cell_type": "code",
   "execution_count": 60,
   "metadata": {},
   "outputs": [
    {
     "data": {
      "text/plain": [
       "'10'"
      ]
     },
     "execution_count": 60,
     "metadata": {},
     "output_type": "execute_result"
    }
   ],
   "source": [
    "d[0][2:4]"
   ]
  },
  {
   "cell_type": "code",
   "execution_count": 55,
   "metadata": {},
   "outputs": [],
   "source": [
    "dict_chr = {}"
   ]
  },
  {
   "cell_type": "code",
   "execution_count": 71,
   "metadata": {
    "collapsed": true
   },
   "outputs": [
    {
     "data": {
      "text/plain": [
       "{'A': '10',\n",
       " 'B': '11',\n",
       " 'C': '12',\n",
       " 'D': '13',\n",
       " 'E': '14',\n",
       " 'F': '15',\n",
       " 'G': '16',\n",
       " 'H': '17',\n",
       " 'I': '34',\n",
       " 'J': '18',\n",
       " 'K': '19',\n",
       " 'L': '20',\n",
       " 'M': '21',\n",
       " 'N': '22',\n",
       " 'O': '35',\n",
       " 'P': '23',\n",
       " 'Q': '24',\n",
       " 'R': '25',\n",
       " 'S': '26',\n",
       " 'T': '27',\n",
       " 'U': '28',\n",
       " 'V': '29',\n",
       " 'W': '32',\n",
       " 'X': '30',\n",
       " 'Y': '31',\n",
       " 'Z': '33'}"
      ]
     },
     "execution_count": 71,
     "metadata": {},
     "output_type": "execute_result"
    }
   ],
   "source": [
    "dict_chr"
   ]
  },
  {
   "cell_type": "code",
   "execution_count": 75,
   "metadata": {},
   "outputs": [
    {
     "data": {
      "text/plain": [
       "'27'"
      ]
     },
     "execution_count": 75,
     "metadata": {},
     "output_type": "execute_result"
    }
   ],
   "source": [
    "dict_chr[id_no[0]]"
   ]
  },
  {
   "cell_type": "code",
   "execution_count": 70,
   "metadata": {
    "collapsed": true
   },
   "outputs": [
    {
     "name": "stdout",
     "output_type": "stream",
     "text": [
      "A\n",
      "J\n",
      "S\n",
      "B\n",
      "K\n",
      "T\n",
      "C\n",
      "L\n",
      "U\n",
      "D\n",
      "M\n",
      "V\n",
      "E\n",
      "N\n",
      "W\n",
      "F\n",
      "O\n",
      "X\n",
      "G\n",
      "P\n",
      "Y\n",
      "H\n",
      "Q\n",
      "Z\n",
      "I\n",
      "R\n"
     ]
    }
   ],
   "source": [
    "for dd in d:\n",
    "    print(dd[0])\n",
    "    dict_chr[dd[0]] = dd[2:4]"
   ]
  },
  {
   "cell_type": "code",
   "execution_count": 90,
   "metadata": {},
   "outputs": [],
   "source": [
    "list_id_no = ([\n",
    "'A154285748',\n",
    "'B127231725',\n",
    "'C256572407',\n",
    "'D232773770',\n",
    "'E240211835'])"
   ]
  },
  {
   "cell_type": "code",
   "execution_count": 92,
   "metadata": {},
   "outputs": [
    {
     "name": "stdout",
     "output_type": "stream",
     "text": [
      "A154285748 1\n",
      "B127231725 0\n",
      "C256572407 0\n",
      "D232773770 0\n",
      "E240211835 2\n"
     ]
    }
   ],
   "source": [
    "for id_no in list_id_no:\n",
    "    new_id_no = dict_chr[id_no[0]] + id_no[1:]\n",
    "    weighting = '19876543211'\n",
    "    list_newIdNo = list(zip(new_id_no,weighting))\n",
    "    check_sum = sum([int(id_no[0]) * int(id_no[1]) for id_no in list_newIdNo])\n",
    "    print(id_no, check_sum%10)"
   ]
  },
  {
   "cell_type": "code",
   "execution_count": 94,
   "metadata": {},
   "outputs": [],
   "source": [
    "str_a = \"abc\"\n",
    "str_c = str_a[:] * 3"
   ]
  },
  {
   "cell_type": "code",
   "execution_count": 95,
   "metadata": {},
   "outputs": [
    {
     "data": {
      "text/plain": [
       "'abcabcabc'"
      ]
     },
     "execution_count": 95,
     "metadata": {},
     "output_type": "execute_result"
    }
   ],
   "source": [
    "str_c"
   ]
  },
  {
   "cell_type": "code",
   "execution_count": 104,
   "metadata": {},
   "outputs": [
    {
     "data": {
      "text/plain": [
       "'003.14'"
      ]
     },
     "execution_count": 104,
     "metadata": {},
     "output_type": "execute_result"
    }
   ],
   "source": [
    "'%06.2f' % (3.141592653589793,)"
   ]
  },
  {
   "cell_type": "markdown",
   "metadata": {},
   "source": [
    "# ch3"
   ]
  },
  {
   "cell_type": "code",
   "execution_count": 108,
   "metadata": {
    "collapsed": true
   },
   "outputs": [
    {
     "ename": "SyntaxError",
     "evalue": "invalid character in identifier (<ipython-input-108-3ed4685cd0f3>, line 1)",
     "output_type": "error",
     "traceback": [
      "\u001b[0;36m  File \u001b[0;32m\"<ipython-input-108-3ed4685cd0f3>\"\u001b[0;36m, line \u001b[0;32m1\u001b[0m\n\u001b[0;31m    利用Python計算由2010年3月2日中午12點15分0秒起算，經過145天10小時又3分鐘之後的時間為何?\u001b[0m\n\u001b[0m                                                         ^\u001b[0m\n\u001b[0;31mSyntaxError\u001b[0m\u001b[0;31m:\u001b[0m invalid character in identifier\n"
     ]
    }
   ],
   "source": [
    "利用Python計算由2010年3月2日中午12點15分0秒起算，經過145天10小時又3分鐘之後的時間為何? \n",
    "你的回答應該使用這個格式: YYYY-MM-DD HH:MM:SS，也就是年月日時分秒。"
   ]
  },
  {
   "cell_type": "code",
   "execution_count": 109,
   "metadata": {},
   "outputs": [],
   "source": [
    "import datetime"
   ]
  },
  {
   "cell_type": "code",
   "execution_count": 122,
   "metadata": {
    "scrolled": true
   },
   "outputs": [],
   "source": [
    "d1 = datetime.datetime(2010,3,2,12,15,0)"
   ]
  },
  {
   "cell_type": "code",
   "execution_count": 125,
   "metadata": {},
   "outputs": [],
   "source": [
    "td = datetime.timedelta(days = 145, hours = 10, minutes = 3)"
   ]
  },
  {
   "cell_type": "code",
   "execution_count": 127,
   "metadata": {},
   "outputs": [],
   "source": [
    "d2 = d1+td"
   ]
  },
  {
   "cell_type": "code",
   "execution_count": 129,
   "metadata": {},
   "outputs": [
    {
     "data": {
      "text/plain": [
       "datetime.datetime(2010, 7, 25, 22, 18)"
      ]
     },
     "execution_count": 129,
     "metadata": {},
     "output_type": "execute_result"
    }
   ],
   "source": [
    "d2"
   ]
  },
  {
   "cell_type": "code",
   "execution_count": 138,
   "metadata": {},
   "outputs": [
    {
     "data": {
      "text/plain": [
       "'2010-07-25 22:18:00'"
      ]
     },
     "execution_count": 138,
     "metadata": {},
     "output_type": "execute_result"
    }
   ],
   "source": [
    "d2.strftime('%Y-%m-%d %H:%M:%S')"
   ]
  },
  {
   "cell_type": "code",
   "execution_count": null,
   "metadata": {},
   "outputs": [],
   "source": [
    "今天有一群人在為n面牆壁漆油漆，一開始都是顏色1，經過著色後會被覆蓋，變成其他顏色。\n",
    "今天如果有10面牆壁，然後替第2到5面牆壁漆顏色2，那麼總共會有6面牆壁顏色1，4面牆壁顏色2。\n",
    "若再替牆壁3到6漆顏色3，那麼會有5面牆壁顏色1，1面牆壁顏色2，4面牆壁顏色3。\n",
    "現在給定如下的資料輸入格式：\n",
    "第一行輸入牆壁n面和m次油漆，\n",
    "接下來的m行每行依順序輸入漆的牆壁的起點號碼、漆的牆壁的終點號碼，以及顏色代碼，都是合理的整數。\n",
    "輸出共有m段，於第 i 段輸出在全部油漆動作都完成後，\n",
    "第 i 次油漆之顏色的牆壁面數、一個空格，與該顏色代碼。段與段之間用一個分號隔開。所有牆壁在最初都是顏色1。\n",
    "舉例來說："
   ]
  },
  {
   "cell_type": "code",
   "execution_count": null,
   "metadata": {},
   "outputs": [],
   "source": [
    "Input :\n",
    "\n",
    "10 2\n",
    "\n",
    "2 5 2\n",
    "\n",
    "3 6 3\n",
    "\n",
    "Output\n",
    "\n",
    "5 1;1 2;4 3\n",
    "\n",
    "現在如果是\n",
    "\n",
    "15 4\n",
    "\n",
    "2 3 3\n",
    "\n",
    "5 13 2\n",
    "\n",
    "3 5 1\n",
    "\n",
    "5 5 4\n",
    "\n",
    "那麼輸出會是？請注意第三次的油漆動作，我們會把第 3 到 5 面牆壁漆成最初的 1 號色。"
   ]
  },
  {
   "cell_type": "code",
   "execution_count": 201,
   "metadata": {},
   "outputs": [],
   "source": [
    "w = [1,2,3,4,5,6,7,8,9,10,11,12,13,14,15]"
   ]
  },
  {
   "cell_type": "code",
   "execution_count": 202,
   "metadata": {},
   "outputs": [],
   "source": [
    "c = list(str(1)*15)"
   ]
  },
  {
   "cell_type": "code",
   "execution_count": 203,
   "metadata": {},
   "outputs": [],
   "source": [
    "dict_color_of_wall = dict(zip(w,c))"
   ]
  },
  {
   "cell_type": "code",
   "execution_count": 165,
   "metadata": {},
   "outputs": [],
   "source": [
    "for i in range(2,6):\n",
    "    dict_color_of_wall[i] = '2'\n",
    "for i in range(3,7):\n",
    "    dict_color_of_wall[i] = '3'"
   ]
  },
  {
   "cell_type": "code",
   "execution_count": 167,
   "metadata": {
    "collapsed": true
   },
   "outputs": [
    {
     "data": {
      "text/plain": [
       "{1: '1',\n",
       " 2: '2',\n",
       " 3: '3',\n",
       " 4: '3',\n",
       " 5: '3',\n",
       " 6: '3',\n",
       " 7: '1',\n",
       " 8: '1',\n",
       " 9: '1',\n",
       " 10: '1'}"
      ]
     },
     "execution_count": 167,
     "metadata": {},
     "output_type": "execute_result"
    }
   ],
   "source": [
    "from collections import Counter"
   ]
  },
  {
   "cell_type": "code",
   "execution_count": 172,
   "metadata": {},
   "outputs": [
    {
     "data": {
      "text/plain": [
       "Counter({'1': 5, '2': 1, '3': 4})"
      ]
     },
     "execution_count": 172,
     "metadata": {},
     "output_type": "execute_result"
    }
   ],
   "source": [
    "Counter(dict_color_of_wall.values())"
   ]
  },
  {
   "cell_type": "code",
   "execution_count": null,
   "metadata": {},
   "outputs": [],
   "source": []
  }
 ],
 "metadata": {
  "kernelspec": {
   "display_name": "python3.5.5",
   "language": "python",
   "name": "venv"
  },
  "language_info": {
   "codemirror_mode": {
    "name": "ipython",
    "version": 3
   },
   "file_extension": ".py",
   "mimetype": "text/x-python",
   "name": "python",
   "nbconvert_exporter": "python",
   "pygments_lexer": "ipython3",
   "version": "3.5.5"
  }
 },
 "nbformat": 4,
 "nbformat_minor": 2
}
