{
 "cells": [
  {
   "cell_type": "code",
   "execution_count": 36,
   "metadata": {},
   "outputs": [],
   "source": [
    "# import pandas as pd\n",
    "import operator\n",
    "from IPython.core.interactiveshell import InteractiveShell\n",
    "InteractiveShell.ast_node_interactivity = \"all\""
   ]
  },
  {
   "cell_type": "code",
   "execution_count": 11,
   "metadata": {},
   "outputs": [
    {
     "name": "stdout",
     "output_type": "stream",
     "text": [
      "286\n",
      "214 14 14 4 4 0\n"
     ]
    }
   ],
   "source": [
    "cost = int(input())\n",
    "\n",
    "r500 = (1000 - cost)%500\n",
    "r100 = r500 % 100\n",
    "r50 = r100 % 50\n",
    "r10 = r50 % 10\n",
    "r5 = r10 % 5\n",
    "r1 = r5 % 1\n",
    "print(r500 , r100 , r50 , r10 , r5 , r1)"
   ]
  },
  {
   "cell_type": "code",
   "execution_count": 31,
   "metadata": {},
   "outputs": [
    {
     "name": "stdout",
     "output_type": "stream",
     "text": [
      "46208\n",
      "1159\n",
      "a 有 46208 b 有 1159\n",
      " 34019\n",
      "12189 35178\n"
     ]
    }
   ],
   "source": [
    "a  = int(input())\n",
    "b  = int(input())\n",
    "print('a 有', a ,'b 有', b )\n",
    "\n",
    "\n",
    "cost = int(input())\n",
    "# revenue = int(input())\n",
    "if a - cost >= 0:\n",
    "    a = a - cost\n",
    "    b = b + cost\n",
    "    print(a , b )\n",
    "    \n",
    "else:\n",
    "    b = b + a \n",
    "    a = 0\n",
    "\n",
    "    print(a , b )\n",
    "\n"
   ]
  },
  {
   "cell_type": "code",
   "execution_count": 218,
   "metadata": {},
   "outputs": [
    {
     "name": "stdout",
     "output_type": "stream",
     "text": [
      "413\n",
      "餘額 587\n",
      "500, 1; 100, 0; 50, 1; 10, 3; 5, 1; 1, 2\n",
      "500, 1; 50, 1; 10, 3; 5, 1; 1, 2\n"
     ]
    }
   ],
   "source": [
    "cost = int(input())\n",
    "\n",
    "balance = 1000 - cost\n",
    "\n",
    "print('餘額',balance)\n",
    "\n",
    "d500 = 0\n",
    "d100 = 0\n",
    "d50 = 0\n",
    "d10 = 0\n",
    "d5 = 0\n",
    "d1 = 0\n",
    "\n",
    "def return_money(balance):\n",
    "    global d500, d100 ,d50 , d10 , d5, d1\n",
    "    \n",
    "    if balance - 500 >= 0:\n",
    "        d500 += 1\n",
    "        balance = balance - 500\n",
    "        return return_money(balance)\n",
    "    elif balance - 100 >= 0 :\n",
    "        d100 += 1\n",
    "        balance = balance - 100\n",
    "        return return_money(balance)\n",
    "    elif balance - 50 >= 0 :\n",
    "        d50 += 1\n",
    "        balance = balance - 50\n",
    "        return return_money(balance)\n",
    "    elif balance - 10 >= 0 :\n",
    "        d10 += 1\n",
    "        balance = balance - 10\n",
    "        return return_money(balance)\n",
    "    elif balance - 5 >= 0 :\n",
    "        d5 += 1\n",
    "        balance = balance - 5\n",
    "        return return_money(balance)\n",
    "    else :\n",
    "        d1 = balance\n",
    "        return d1\n",
    "    return(d500, d100, d50, d10, d5, d1)\n",
    "#     print(d500, d100, d50, d10, d5, d1)\n",
    "\n",
    "return_money(balance = balance)\n",
    "\n",
    "(print('500, ' + str(d500) + '; ' \n",
    "       + '100, ' + str(d100) + '; ' \n",
    "       + '50, ' + str(d50) + '; ' \n",
    "       + '10, ' + str(d10) + '; '\n",
    "       + '5, ' + str(d5) + '; ' \n",
    "       + '1, ' + str(d1) ))\n",
    "\n",
    "\n",
    "z = zip([500,100,50,10,5,1],[d500,d100,d50,d10,d5,d1])\n",
    "z_ = list(z)\n",
    "\n",
    "print(''.join([(str(x[0])+\", \"+ str(x[1]) + '; ') for x in z_ if x[1] > 0])[:-2])"
   ]
  },
  {
   "cell_type": "code",
   "execution_count": 125,
   "metadata": {},
   "outputs": [],
   "source": [
    "# if d500 > 0 :\n",
    "#     s500 = '500, ' + str(d500) + '; '\n",
    "# elif d100 > 0 :    \n",
    "#     s100 =  '100, ' + str(d100) + '; ' \n",
    "# elif d50 > 0 :    \n",
    "#     s50 =  '50, ' + str(d100) + '; ' \n",
    "# elif d10 > 0 :    \n",
    "#     s10 =  '10, ' + str(d100) + '; ' \n",
    "# elif d5 > 0 :    \n",
    "#     s5 =  '5, ' + str(d100) + '; ' \n",
    "# else:\n",
    "#     s1 = '1, ' + str(d1)"
   ]
  },
  {
   "cell_type": "code",
   "execution_count": 150,
   "metadata": {},
   "outputs": [],
   "source": []
  },
  {
   "cell_type": "code",
   "execution_count": 168,
   "metadata": {},
   "outputs": [],
   "source": [
    "def expectatoin_value():\n",
    "    list_p = ([\n",
    "    0.78,\n",
    "    0.08,\n",
    "    0.1,\n",
    "    0.01,\n",
    "    0.02,\n",
    "    0.0,\n",
    "    0.0,\n",
    "    0.0,\n",
    "    0.01,\n",
    "    ])\n",
    "    cost = int(input('成本'))\n",
    "    price = int(input('售價'))\n",
    "    # demand = int(input('需求'))\n",
    "    demand = 8\n",
    "    quantity = 0\n",
    "    list_revenue = []\n",
    "    \n",
    "    while quantity <= 8:\n",
    "        total_cost = quantity * cost\n",
    "        revenue = []\n",
    "        \n",
    "        for d in range(0,demand + 1):\n",
    "#             \n",
    "            if  d < quantity:\n",
    "                revenue.append((d * price - total_cost ) * list_p[d])\n",
    "#                quantity < d - 代表一定會有人買， \n",
    "            elif d == quantity:\n",
    "                revenue.append((d * price - total_cost ) * (1 - sum(list_p[0:d]) ))\n",
    "            else:\n",
    "                pass\n",
    "            \n",
    "        print('進貨量',len(revenue)-1,'期望收益細項',revenue)\n",
    "        \n",
    "        quantity = quantity + 1\n",
    "        \n",
    "        list_revenue.append(int(sum(revenue)))\n",
    "#     return list(enumerate(list_revenue))\n",
    "    print('期望收益',list_revenue)\n",
    "    return max(enumerate(list_revenue), key=operator.itemgetter(1))\n"
   ]
  },
  {
   "cell_type": "code",
   "execution_count": 169,
   "metadata": {
    "collapsed": true
   },
   "outputs": [
    {
     "name": "stdout",
     "output_type": "stream",
     "text": [
      "成本16\n",
      "售價26\n",
      "進貨量 0 期望收益細項 [0]\n",
      "進貨量 1 期望收益細項 [-12.48, 2.1999999999999997]\n",
      "進貨量 2 期望收益細項 [-24.96, -0.48, 2.8000000000000003]\n",
      "進貨量 3 期望收益細項 [-37.44, -1.76, 0.4, 1.200000000000001]\n",
      "進貨量 4 期望收益細項 [-49.92, -3.04, -1.2000000000000002, 0.14, 1.200000000000001]\n",
      "進貨量 5 期望收益細項 [-62.400000000000006, -4.32, -2.8000000000000003, -0.02, 0.48, 0.5000000000000004]\n",
      "進貨量 6 期望收益細項 [-74.88, -5.6000000000000005, -4.4, -0.18, 0.16, 0.0, 0.6000000000000005]\n",
      "進貨量 7 期望收益細項 [-87.36, -6.88, -6.0, -0.34, -0.16, 0.0, 0.0, 0.7000000000000006]\n",
      "進貨量 8 期望收益細項 [-99.84, -8.16, -7.6000000000000005, -0.5, -0.48, 0.0, 0.0, 0.0, 0.8000000000000007]\n",
      "期望收益 [0, -10, -22, -37, -52, -68, -84, -100, -115]\n"
     ]
    },
    {
     "data": {
      "text/plain": [
       "(0, 0)"
      ]
     },
     "execution_count": 169,
     "metadata": {},
     "output_type": "execute_result"
    }
   ],
   "source": [
    "expectatoin_value()"
   ]
  },
  {
   "cell_type": "markdown",
   "metadata": {},
   "source": [
    "# 第五週練習：報童問題之最佳訂貨量（進階版）\n"
   ]
  },
  {
   "cell_type": "code",
   "execution_count": 207,
   "metadata": {},
   "outputs": [],
   "source": [
    "list_p = ! cat ./question_input.txt"
   ]
  },
  {
   "cell_type": "code",
   "execution_count": 208,
   "metadata": {},
   "outputs": [],
   "source": [
    "list_p = list(filter(None, list_p))"
   ]
  },
  {
   "cell_type": "code",
   "execution_count": 209,
   "metadata": {},
   "outputs": [
    {
     "data": {
      "text/plain": [
       "104"
      ]
     },
     "execution_count": 209,
     "metadata": {},
     "output_type": "execute_result"
    }
   ],
   "source": [
    "len(list_p)"
   ]
  },
  {
   "cell_type": "code",
   "execution_count": 210,
   "metadata": {},
   "outputs": [],
   "source": [
    "def expectatoin_value(list_p):\n",
    "    list_p = [float(p) for p in list_p]\n",
    "    list_p_ = list_p[0:4] \n",
    "    cost = int(list_p_[0])\n",
    "    price = int(list_p_[1])\n",
    "    demand = int(list_p_[2])\n",
    "    Salvage_value = int(list_p_[3])\n",
    "    list_p = list_p[4:]\n",
    "    \n",
    "    quantity = 0\n",
    "    list_revenue = []\n",
    "    \n",
    "    while quantity <= demand:\n",
    "        total_cost = quantity * cost\n",
    "        revenue = []\n",
    "        \n",
    "        for d in range(0, demand+1):\n",
    "#             \n",
    "            if  d < quantity:\n",
    "                revenue.append((d * price - total_cost  + (quantity - d) * Salvage_value) * list_p[d])\n",
    "#                quantity < d - 代表一定會有人買， \n",
    "            elif d == quantity:\n",
    "                revenue.append((d * price - total_cost ) * (1 - sum(list_p[0:d]) ))\n",
    "#             elif d > quantity:\n",
    "#                 revenue.append(d)\n",
    "            \n",
    "#         print('進貨量',len(revenue)-1,'期望收益細項',revenue)\n",
    "        \n",
    "        quantity = quantity + 1\n",
    "        \n",
    "        list_revenue.append(round(float(sum(revenue)),2))\n",
    "#     return list(enumerate(list_revenue))\n",
    "    print('期望收益',list_revenue)\n",
    "    max_revenue =  max(enumerate(list_revenue), key=operator.itemgetter(1))\n",
    "    print()\n",
    "    print(max_revenue[0],int(max_revenue[1]))"
   ]
  },
  {
   "cell_type": "code",
   "execution_count": 211,
   "metadata": {},
   "outputs": [
    {
     "name": "stdout",
     "output_type": "stream",
     "text": [
      "期望收益 [0.0, 2.85, 5.3, 7.4, 8.75, 10.05, 11.3, 12.4, 13.45, 14.45, 15.45, 16.45, 17.45, 18.45, 19.45, 20.45, 21.45, 22.45, 23.45, 24.45, 25.45, 26.45, 27.45, 28.45, 29.45, 30.45, 31.45, 32.45, 33.45, 34.45, 35.45, 36.45, 37.45, 38.45, 39.45, 40.45, 41.45, 42.45, 43.45, 44.45, 45.45, 46.45, 47.45, 48.45, 49.45, 49.95, 50.45, 50.95, 51.45, 51.65, 51.85, 52.05, 52.25, 52.2, 52.15, 52.1, 52.05, 52.0, 51.95, 51.7, 51.45, 51.2, 50.95, 50.45, 49.95, 49.45, 48.95, 48.45, 47.95, 47.45, 46.95, 46.45, 45.95, 45.45, 44.95, 44.45, 43.95, 43.3, 42.65, 42.0, 41.35, 40.7, 40.05, 39.4, 38.25, 37.1, 35.95, 34.8, 33.65, 32.15, 30.65, 29.15, 27.65, 26.15, 24.65, 23.15, 21.65, 20.15, 18.45, 16.55]\n",
      "\n",
      "52 52\n"
     ]
    }
   ],
   "source": [
    "expectatoin_value(list_p)"
   ]
  },
  {
   "cell_type": "code",
   "execution_count": null,
   "metadata": {},
   "outputs": [],
   "source": []
  },
  {
   "cell_type": "code",
   "execution_count": null,
   "metadata": {},
   "outputs": [],
   "source": [
    "n_jobs = int(input('how many jobs? '))\n",
    "n_computers = int(input('how many machines do we have? '))\n",
    "p_time = input('Time will be spent for jobs.. ')"
   ]
  },
  {
   "cell_type": "code",
   "execution_count": 192,
   "metadata": {},
   "outputs": [],
   "source": [
    "for j in range(n_jobs):\n",
    "\n",
    "    p = [int(p) for p in p_time.split(',')]\n",
    "\n",
    "    machine_loading =  n_computers * [0]\n",
    "    assingnment = n_jobs * [0]\n",
    "\n",
    "    initial_lowest_loading = 0 \n",
    "    initial_machine = machine_loading[0]\n",
    "\n",
    "    for i in range(0, n_computers):\n",
    "        if machine_loading[i] < initial_machine:\n",
    "            initial_lowest_loading = i \n",
    "            initial_machine = machine_loading[i]\n",
    "\n",
    "    assingnment[j] +=initial_lowest_loading"
   ]
  },
  {
   "cell_type": "code",
   "execution_count": 193,
   "metadata": {},
   "outputs": [
    {
     "data": {
      "text/plain": [
       "[0, 0, 0, 0, 0, 0, 0, 0, 0]"
      ]
     },
     "execution_count": 193,
     "metadata": {},
     "output_type": "execute_result"
    }
   ],
   "source": [
    "assingnment"
   ]
  },
  {
   "cell_type": "code",
   "execution_count": 194,
   "metadata": {},
   "outputs": [
    {
     "data": {
      "text/plain": [
       "0"
      ]
     },
     "execution_count": 194,
     "metadata": {},
     "output_type": "execute_result"
    }
   ],
   "source": [
    "initial_machine"
   ]
  },
  {
   "cell_type": "code",
   "execution_count": 197,
   "metadata": {},
   "outputs": [
    {
     "name": "stdout",
     "output_type": "stream",
     "text": [
      "3\n",
      "2\n",
      "0\n",
      "0\n",
      "0\n"
     ]
    }
   ],
   "source": [
    "x = 4\n",
    "for s in range(0,5):\n",
    "    x =  x - 1 if x - s >0 else 0\n",
    "    print(x)"
   ]
  },
  {
   "cell_type": "code",
   "execution_count": null,
   "metadata": {},
   "outputs": [],
   "source": []
  }
 ],
 "metadata": {
  "kernelspec": {
   "display_name": "Python 3",
   "language": "python",
   "name": "python3"
  },
  "language_info": {
   "codemirror_mode": {
    "name": "ipython",
    "version": 3
   },
   "file_extension": ".py",
   "mimetype": "text/x-python",
   "name": "python",
   "nbconvert_exporter": "python",
   "pygments_lexer": "ipython3",
   "version": "3.6.5"
  }
 },
 "nbformat": 4,
 "nbformat_minor": 2
}
