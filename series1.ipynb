{
 "cells": [
  {
   "cell_type": "code",
   "execution_count": 1,
   "metadata": {
    "collapsed": true
   },
   "outputs": [],
   "source": [
    "def balance_(balance):\n",
    "    if balance>500:\n",
    "        d500 = int(balance/500)\n",
    "        balance = balance-500\n",
    "        print ('500', d500)\n",
    "        return balance_(balance)\n",
    "    \n",
    "    elif 500>balance>=100:\n",
    "        d100 = int(balance/100)\n",
    "        balance = balance - d100*100\n",
    "        print ('100',d100)\n",
    "        return balance_(balance)\n",
    "\n",
    "    elif 100>balance>=50:\n",
    "        d50 = int(balance/50)\n",
    "        balance = balance - d50*50\n",
    "        print ('50',d50)\n",
    "        return balance_(balance)\n",
    "        \n",
    "\n",
    "    elif 50>balance>=10:\n",
    "        d10 = int(balance/10)\n",
    "        balance = balance - d10*10\n",
    "        print ('10', d10)\n",
    "        return balance_(balance)\n",
    "        \n",
    "\n",
    "    elif 10>balance>=5:\n",
    "        d5 = int(balance/5)\n",
    "        balance = balance - d5*5\n",
    "        print ('5', d5)\n",
    "        return balance_(balance)\n",
    "        \n",
    "    else:\n",
    "        d1=balance\n",
    "        print('1', d1)\n",
    "#         return balance\n",
    "        \n",
    "    "
   ]
  },
  {
   "cell_type": "markdown",
   "metadata": {},
   "source": [
    " 在每筆測試資料中，會有 N + 5N+5 列，每一列都有一個數字。第一列的整數是單位進貨成本 cc、第二列的整數是單位零售價格 rr、第三列的整數是需求的可能個數 NN、第四列是訂貨量 qq、第五列開始的小數則依序是賣出零份、一份直到 NN 份報紙的機率（也就是說對於 i = 4, 5, ..., N + 4i=4,5,...,N+4，第 ii 列記錄的是賣出 i - 4i−4 份報紙的機率）。已知 cc 會落在 1 到 100 之間（包含 1 跟 100）、rr 會落在 1 到 100 之間（包含 1 跟 100）、rr 不會比 cc 小、NN 一定會是 8。此外，對於 i = 0, 1, ..., Ni=0,1,...,N，p_ip \n",
    "i\n",
    "​\t 會介於 0 到 1 之間（包含 0 跟 1）、最多只有兩位小數，並且滿足 \\sum_{i = 0}^N p_i = 1∑ \n",
    "i=0\n",
    "N\n",
    "​\t p \n",
    "i\n",
    "​\t =1。\n",
    "\n",
    "讀入這些資料之後，你會計算並輸出在給定訂購量下的預期利潤無條件捨去到整數 \\lfloor \\pi(q) \\rfloor⌊π(q)⌋。\n",
    "\n",
    "舉例來說，如果輸入是"
   ]
  },
  {
   "cell_type": "code",
   "execution_count": null,
   "metadata": {
    "collapsed": true
   },
   "outputs": [],
   "source": [
    "2\n",
    "10\n",
    "8\n",
    "6\n",
    "0.06\n",
    "0.15\n",
    "0.22\n",
    "0.22\n",
    "0.17\n",
    "0.1\n",
    "0.05\n",
    "0.02\n",
    "0.01"
   ]
  },
  {
   "cell_type": "code",
   "execution_count": 6,
   "metadata": {
    "collapsed": true
   },
   "outputs": [
    {
     "ename": "KeyboardInterrupt",
     "evalue": "",
     "output_type": "error",
     "traceback": [
      "\u001b[0;31m---------------------------------------------------------------------------\u001b[0m",
      "\u001b[0;31mKeyboardInterrupt\u001b[0m                         Traceback (most recent call last)",
      "\u001b[0;32m/Users/kuo/anaconda3/envs/venv/lib/python3.6/site-packages/ipykernel/kernelbase.py\u001b[0m in \u001b[0;36m_input_request\u001b[0;34m(self, prompt, ident, parent, password)\u001b[0m\n\u001b[1;32m    729\u001b[0m             \u001b[0;32mtry\u001b[0m\u001b[0;34m:\u001b[0m\u001b[0;34m\u001b[0m\u001b[0m\n\u001b[0;32m--> 730\u001b[0;31m                 \u001b[0mident\u001b[0m\u001b[0;34m,\u001b[0m \u001b[0mreply\u001b[0m \u001b[0;34m=\u001b[0m \u001b[0mself\u001b[0m\u001b[0;34m.\u001b[0m\u001b[0msession\u001b[0m\u001b[0;34m.\u001b[0m\u001b[0mrecv\u001b[0m\u001b[0;34m(\u001b[0m\u001b[0mself\u001b[0m\u001b[0;34m.\u001b[0m\u001b[0mstdin_socket\u001b[0m\u001b[0;34m,\u001b[0m \u001b[0;36m0\u001b[0m\u001b[0;34m)\u001b[0m\u001b[0;34m\u001b[0m\u001b[0m\n\u001b[0m\u001b[1;32m    731\u001b[0m             \u001b[0;32mexcept\u001b[0m \u001b[0mException\u001b[0m\u001b[0;34m:\u001b[0m\u001b[0;34m\u001b[0m\u001b[0m\n",
      "\u001b[0;32m/Users/kuo/anaconda3/envs/venv/lib/python3.6/site-packages/jupyter_client/session.py\u001b[0m in \u001b[0;36mrecv\u001b[0;34m(self, socket, mode, content, copy)\u001b[0m\n\u001b[1;32m    777\u001b[0m         \u001b[0;32mtry\u001b[0m\u001b[0;34m:\u001b[0m\u001b[0;34m\u001b[0m\u001b[0m\n\u001b[0;32m--> 778\u001b[0;31m             \u001b[0mmsg_list\u001b[0m \u001b[0;34m=\u001b[0m \u001b[0msocket\u001b[0m\u001b[0;34m.\u001b[0m\u001b[0mrecv_multipart\u001b[0m\u001b[0;34m(\u001b[0m\u001b[0mmode\u001b[0m\u001b[0;34m,\u001b[0m \u001b[0mcopy\u001b[0m\u001b[0;34m=\u001b[0m\u001b[0mcopy\u001b[0m\u001b[0;34m)\u001b[0m\u001b[0;34m\u001b[0m\u001b[0m\n\u001b[0m\u001b[1;32m    779\u001b[0m         \u001b[0;32mexcept\u001b[0m \u001b[0mzmq\u001b[0m\u001b[0;34m.\u001b[0m\u001b[0mZMQError\u001b[0m \u001b[0;32mas\u001b[0m \u001b[0me\u001b[0m\u001b[0;34m:\u001b[0m\u001b[0;34m\u001b[0m\u001b[0m\n",
      "\u001b[0;32m/Users/kuo/anaconda3/envs/venv/lib/python3.6/site-packages/zmq/sugar/socket.py\u001b[0m in \u001b[0;36mrecv_multipart\u001b[0;34m(self, flags, copy, track)\u001b[0m\n\u001b[1;32m    394\u001b[0m         \"\"\"\n\u001b[0;32m--> 395\u001b[0;31m         \u001b[0mparts\u001b[0m \u001b[0;34m=\u001b[0m \u001b[0;34m[\u001b[0m\u001b[0mself\u001b[0m\u001b[0;34m.\u001b[0m\u001b[0mrecv\u001b[0m\u001b[0;34m(\u001b[0m\u001b[0mflags\u001b[0m\u001b[0;34m,\u001b[0m \u001b[0mcopy\u001b[0m\u001b[0;34m=\u001b[0m\u001b[0mcopy\u001b[0m\u001b[0;34m,\u001b[0m \u001b[0mtrack\u001b[0m\u001b[0;34m=\u001b[0m\u001b[0mtrack\u001b[0m\u001b[0;34m)\u001b[0m\u001b[0;34m]\u001b[0m\u001b[0;34m\u001b[0m\u001b[0m\n\u001b[0m\u001b[1;32m    396\u001b[0m         \u001b[0;31m# have first part already, only loop while more to receive\u001b[0m\u001b[0;34m\u001b[0m\u001b[0;34m\u001b[0m\u001b[0m\n",
      "\u001b[0;32mzmq/backend/cython/socket.pyx\u001b[0m in \u001b[0;36mzmq.backend.cython.socket.Socket.recv (zmq/backend/cython/socket.c:7683)\u001b[0;34m()\u001b[0m\n",
      "\u001b[0;32mzmq/backend/cython/socket.pyx\u001b[0m in \u001b[0;36mzmq.backend.cython.socket.Socket.recv (zmq/backend/cython/socket.c:7460)\u001b[0;34m()\u001b[0m\n",
      "\u001b[0;32mzmq/backend/cython/socket.pyx\u001b[0m in \u001b[0;36mzmq.backend.cython.socket._recv_copy (zmq/backend/cython/socket.c:2344)\u001b[0;34m()\u001b[0m\n",
      "\u001b[0;32m/Users/kuo/anaconda3/envs/venv/lib/python3.6/site-packages/zmq/backend/cython/checkrc.pxd\u001b[0m in \u001b[0;36mzmq.backend.cython.checkrc._check_rc (zmq/backend/cython/socket.c:9621)\u001b[0;34m()\u001b[0m\n",
      "\u001b[0;31mKeyboardInterrupt\u001b[0m: ",
      "\nDuring handling of the above exception, another exception occurred:\n",
      "\u001b[0;31mKeyboardInterrupt\u001b[0m                         Traceback (most recent call last)",
      "\u001b[0;32m<ipython-input-6-5a674e04d20a>\u001b[0m in \u001b[0;36m<module>\u001b[0;34m()\u001b[0m\n\u001b[0;32m----> 1\u001b[0;31m \u001b[0mcost\u001b[0m \u001b[0;34m=\u001b[0m \u001b[0mint\u001b[0m\u001b[0;34m(\u001b[0m\u001b[0minput\u001b[0m\u001b[0;34m(\u001b[0m\u001b[0;34m\"cost \"\u001b[0m\u001b[0;34m)\u001b[0m\u001b[0;34m)\u001b[0m\u001b[0;34m\u001b[0m\u001b[0m\n\u001b[0m\u001b[1;32m      2\u001b[0m \u001b[0mprice\u001b[0m \u001b[0;34m=\u001b[0m \u001b[0mint\u001b[0m\u001b[0;34m(\u001b[0m\u001b[0minput\u001b[0m\u001b[0;34m(\u001b[0m\u001b[0;34m\"price \"\u001b[0m\u001b[0;34m)\u001b[0m\u001b[0;34m)\u001b[0m\u001b[0;34m\u001b[0m\u001b[0m\n\u001b[1;32m      3\u001b[0m \u001b[0mdemand\u001b[0m \u001b[0;34m=\u001b[0m \u001b[0mint\u001b[0m\u001b[0;34m(\u001b[0m\u001b[0minput\u001b[0m\u001b[0;34m(\u001b[0m\u001b[0;34m\"demand \"\u001b[0m\u001b[0;34m)\u001b[0m\u001b[0;34m)\u001b[0m\u001b[0;34m\u001b[0m\u001b[0m\n\u001b[1;32m      4\u001b[0m \u001b[0mquantity\u001b[0m \u001b[0;34m=\u001b[0m \u001b[0mint\u001b[0m\u001b[0;34m(\u001b[0m\u001b[0minput\u001b[0m\u001b[0;34m(\u001b[0m\u001b[0;34m\"quantity \"\u001b[0m\u001b[0;34m)\u001b[0m\u001b[0;34m)\u001b[0m\u001b[0;34m\u001b[0m\u001b[0m\n\u001b[1;32m      5\u001b[0m \u001b[0mp0\u001b[0m \u001b[0;34m=\u001b[0m \u001b[0;36m0.06\u001b[0m\u001b[0;34m\u001b[0m\u001b[0m\n",
      "\u001b[0;32m/Users/kuo/anaconda3/envs/venv/lib/python3.6/site-packages/ipykernel/kernelbase.py\u001b[0m in \u001b[0;36mraw_input\u001b[0;34m(self, prompt)\u001b[0m\n\u001b[1;32m    703\u001b[0m             \u001b[0mself\u001b[0m\u001b[0;34m.\u001b[0m\u001b[0m_parent_ident\u001b[0m\u001b[0;34m,\u001b[0m\u001b[0;34m\u001b[0m\u001b[0m\n\u001b[1;32m    704\u001b[0m             \u001b[0mself\u001b[0m\u001b[0;34m.\u001b[0m\u001b[0m_parent_header\u001b[0m\u001b[0;34m,\u001b[0m\u001b[0;34m\u001b[0m\u001b[0m\n\u001b[0;32m--> 705\u001b[0;31m             \u001b[0mpassword\u001b[0m\u001b[0;34m=\u001b[0m\u001b[0;32mFalse\u001b[0m\u001b[0;34m,\u001b[0m\u001b[0;34m\u001b[0m\u001b[0m\n\u001b[0m\u001b[1;32m    706\u001b[0m         )\n\u001b[1;32m    707\u001b[0m \u001b[0;34m\u001b[0m\u001b[0m\n",
      "\u001b[0;32m/Users/kuo/anaconda3/envs/venv/lib/python3.6/site-packages/ipykernel/kernelbase.py\u001b[0m in \u001b[0;36m_input_request\u001b[0;34m(self, prompt, ident, parent, password)\u001b[0m\n\u001b[1;32m    733\u001b[0m             \u001b[0;32mexcept\u001b[0m \u001b[0mKeyboardInterrupt\u001b[0m\u001b[0;34m:\u001b[0m\u001b[0;34m\u001b[0m\u001b[0m\n\u001b[1;32m    734\u001b[0m                 \u001b[0;31m# re-raise KeyboardInterrupt, to truncate traceback\u001b[0m\u001b[0;34m\u001b[0m\u001b[0;34m\u001b[0m\u001b[0m\n\u001b[0;32m--> 735\u001b[0;31m                 \u001b[0;32mraise\u001b[0m \u001b[0mKeyboardInterrupt\u001b[0m\u001b[0;34m\u001b[0m\u001b[0m\n\u001b[0m\u001b[1;32m    736\u001b[0m             \u001b[0;32melse\u001b[0m\u001b[0;34m:\u001b[0m\u001b[0;34m\u001b[0m\u001b[0m\n\u001b[1;32m    737\u001b[0m                 \u001b[0;32mbreak\u001b[0m\u001b[0;34m\u001b[0m\u001b[0m\n",
      "\u001b[0;31mKeyboardInterrupt\u001b[0m: "
     ]
    }
   ],
   "source": [
    "\n",
    "p0 = 0.06\n",
    "p1 = 0.15\n",
    "p2 = 0.22\n",
    "p3 = 0.22\n",
    "p4 = 0.17\n",
    "p5 = 0.1\n",
    "p6 = 0.05\n",
    "p7 = 0.02\n",
    "p8 = 0.01\n"
   ]
  },
  {
   "cell_type": "code",
   "execution_count": 132,
   "metadata": {},
   "outputs": [],
   "source": [
    "# list_p = [0.06, 0.15, 0.22, 0.22, 0.17, 0.1, 0.05, 0.02, 0.01]\n",
    "list_p = ([\n",
    "0.06,\n",
    "0.15,\n",
    "0.22,\n",
    "0.22,\n",
    "0.17,\n",
    "0.1,\n",
    "0.05,\n",
    "0.02,\n",
    "0.01,\n",
    "])"
   ]
  },
  {
   "cell_type": "code",
   "execution_count": 133,
   "metadata": {},
   "outputs": [
    {
     "data": {
      "text/plain": [
       "[0.06, 0.15, 0.22, 0.22, 0.17, 0.1, 0.05, 0.02, 0.01]"
      ]
     },
     "execution_count": 133,
     "metadata": {},
     "output_type": "execute_result"
    }
   ],
   "source": [
    "list_p"
   ]
  },
  {
   "cell_type": "code",
   "execution_count": 85,
   "metadata": {},
   "outputs": [],
   "source": [
    "def expectation_value():\n",
    "#     cost,price,demand,quantity\n",
    "    cost = int(input(\"cost \"))\n",
    "    price = int(input(\"price \"))\n",
    "    demand = int(input(\"demand \"))\n",
    "    quantity = int(input(\"quantity \"))\n",
    "    \n",
    "    import_cost = cost * quantity\n",
    "    print(\"import_cost :\",import_cost)\n",
    "    exp_revenue = []\n",
    "    for i in range(0,demand+1):\n",
    "        if i < quantity:\n",
    "            print(i)\n",
    "            exp_revenue.append((i * price - import_cost) * list_p[i] )\n",
    "        elif i == quantity:\n",
    "            exp_revenue.append((i * price - import_cost) * (1 - sum(list_p[0:i])))\n",
    "\n",
    "#     print(sum(exp_revenue))\n",
    "#         else:\n",
    "#             exp_revenue.append(i * price * list_p[i])\n",
    "    return int(sum(exp_revenue))"
   ]
  },
  {
   "cell_type": "code",
   "execution_count": 139,
   "metadata": {
    "collapsed": true
   },
   "outputs": [],
   "source": [
    "list_p = ([\n",
    "0.06,\n",
    "0.15,\n",
    "0.22,\n",
    "0.22,\n",
    "0.17,\n",
    "0.1,\n",
    "0.05,\n",
    "0.02,\n",
    "0.01,\n",
    "])"
   ]
  },
  {
   "cell_type": "code",
   "execution_count": 137,
   "metadata": {
    "collapsed": true
   },
   "outputs": [],
   "source": [
    "def optimized_expectation_value():\n",
    "#     cost,price,demand,quantity\n",
    "    cost = int(input(\"cost \"))\n",
    "    price = int(input(\"price \"))\n",
    "    demand = int(input(\"demand \"))\n",
    "    exp_revenue = []\n",
    "    quantity = 0\n",
    "    \n",
    "    for d in range(0,demand+1):\n",
    "        while quantity <= d\n",
    "            import_cost = cost * quantity\n",
    "            print(\"import_cost :\",import_cost)\n",
    "        \n",
    "            if d < quantity:\n",
    "                print(i)\n",
    "                exp_revenue.append((i * price - import_cost) * list_p[i] )\n",
    "            elif d == quantity:\n",
    "                exp_revenue.append((i * price - import_cost) * (1 - sum(list_p[0:i])))\n",
    "            \n",
    "\n",
    "        quantity += 1\n",
    "            \n",
    "    return(exp_revenue)\n",
    "    return max(enumerate(exp_revenue), key=itemgetter(1))\n",
    "\n",
    "#     print(sum(exp_revenue))\n",
    "#         else:\n",
    "#             exp_revenue.append(i * price * list_p[i])\n",
    "#     return int(max(exp_revenue))"
   ]
  },
  {
   "cell_type": "code",
   "execution_count": 138,
   "metadata": {
    "collapsed": true
   },
   "outputs": [
    {
     "name": "stdout",
     "output_type": "stream",
     "text": [
      "cost 2\n",
      "price 10\n",
      "demand 8\n",
      "import_cost : 0\n",
      "import_cost : 2\n",
      "import_cost : 4\n",
      "import_cost : 6\n",
      "import_cost : 8\n",
      "import_cost : 10\n",
      "import_cost : 12\n",
      "import_cost : 14\n",
      "import_cost : 16\n"
     ]
    },
    {
     "data": {
      "text/plain": [
       "[0,\n",
       " 7.52,\n",
       " 12.64,\n",
       " 13.680000000000001,\n",
       " 11.2,\n",
       " 7.1999999999999975,\n",
       " 3.839999999999998,\n",
       " 1.6799999999999953,\n",
       " 0.6399999999999935]"
      ]
     },
     "execution_count": 138,
     "metadata": {},
     "output_type": "execute_result"
    }
   ],
   "source": [
    "# max(enumerate(list_p), key=itemgetter(1))\n",
    "optimized_expectation_value()"
   ]
  },
  {
   "cell_type": "code",
   "execution_count": null,
   "metadata": {
    "collapsed": true
   },
   "outputs": [],
   "source": [
    "2\n",
    "10\n",
    "8\n"
   ]
  },
  {
   "cell_type": "code",
   "execution_count": 140,
   "metadata": {},
   "outputs": [
    {
     "data": {
      "text/plain": [
       "range(0, 0)"
      ]
     },
     "execution_count": 140,
     "metadata": {},
     "output_type": "execute_result"
    }
   ],
   "source": [
    "range(0,0)"
   ]
  },
  {
   "cell_type": "code",
   "execution_count": null,
   "metadata": {
    "collapsed": true
   },
   "outputs": [],
   "source": []
  }
 ],
 "metadata": {
  "kernelspec": {
   "display_name": "Python 3",
   "language": "python",
   "name": "python3"
  },
  "language_info": {
   "codemirror_mode": {
    "name": "ipython",
    "version": 3
   },
   "file_extension": ".py",
   "mimetype": "text/x-python",
   "name": "python",
   "nbconvert_exporter": "python",
   "pygments_lexer": "ipython3",
   "version": "3.6.1"
  }
 },
 "nbformat": 4,
 "nbformat_minor": 2
}
